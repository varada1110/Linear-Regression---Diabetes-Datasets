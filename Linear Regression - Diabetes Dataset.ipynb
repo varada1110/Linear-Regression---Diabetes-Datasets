{
 "cells": [
  {
   "cell_type": "code",
   "execution_count": 2,
   "id": "9f4d1df9",
   "metadata": {},
   "outputs": [],
   "source": [
    "import numpy as np\n"
   ]
  },
  {
   "cell_type": "code",
   "execution_count": 3,
   "id": "5963dfca",
   "metadata": {},
   "outputs": [
    {
     "data": {
      "text/plain": [
       "array([[-4.91050160e-02, -4.46416370e-02,  1.60854917e-01, ...,\n",
       "         2.80165070e-02,  1.13486230e-02,  3.46000000e+02],\n",
       "       [-7.09002470e-02,  5.06801190e-02, -8.91974840e-02, ...,\n",
       "        -1.29079420e-02, -5.49250870e-02,  1.04000000e+02],\n",
       "       [ 1.75052200e-03, -4.46416370e-02, -7.08746790e-02, ...,\n",
       "        -2.25121720e-02,  7.20651600e-03,  4.90000000e+01],\n",
       "       ...,\n",
       "       [ 2.35457530e-02, -4.46416370e-02,  7.03187030e-02, ...,\n",
       "        -1.91970480e-02, -9.36191100e-03,  2.88000000e+02],\n",
       "       [ 1.62806760e-02,  5.06801190e-02,  7.24743270e-02, ...,\n",
       "        -2.36445580e-02,  6.10539060e-02,  1.31000000e+02],\n",
       "       [-9.14709300e-03,  5.06801190e-02, -3.09956320e-02, ...,\n",
       "         6.20931600e-03,  2.79170510e-02,  4.20000000e+01]])"
      ]
     },
     "execution_count": 3,
     "metadata": {},
     "output_type": "execute_result"
    }
   ],
   "source": [
    "data=np.genfromtxt(\"train.csv\",delimiter=\",\")\n",
    "\n",
    "dataset=np.genfromtxt(\"test.csv\",delimiter=\",\")\n",
    "data\n"
   ]
  },
  {
   "cell_type": "code",
   "execution_count": 4,
   "id": "fd1361ad",
   "metadata": {},
   "outputs": [
    {
     "name": "stdout",
     "output_type": "stream",
     "text": [
      "[[-0.04910502 -0.04464164  0.16085492 ...  0.03430886  0.02801651\n",
      "   0.01134862]\n",
      " [-0.07090025  0.05068012 -0.08919748 ... -0.00259226 -0.01290794\n",
      "  -0.05492509]\n",
      " [ 0.00175052 -0.04464164 -0.07087468 ... -0.03949338 -0.02251217\n",
      "   0.00720652]\n",
      " ...\n",
      " [ 0.02354575 -0.04464164  0.0703187  ... -0.00259226 -0.01919705\n",
      "  -0.00936191]\n",
      " [ 0.01628068  0.05068012  0.07247433 ... -0.00259226 -0.02364456\n",
      "   0.06105391]\n",
      " [-0.00914709  0.05068012 -0.03099563 ... -0.00259226  0.00620932\n",
      "   0.02791705]]\n"
     ]
    }
   ],
   "source": [
    "x=data[:,:-1]\n",
    "y=data[:,-1]\n",
    "print(x)"
   ]
  },
  {
   "cell_type": "code",
   "execution_count": 14,
   "id": "a0e5d505",
   "metadata": {},
   "outputs": [],
   "source": [
    "from sklearn import model_selection\n",
    "X_train,X_test,Y_train,Y_test=model_selection.train_test_split(x,y)"
   ]
  },
  {
   "cell_type": "code",
   "execution_count": 15,
   "id": "86603ac8",
   "metadata": {},
   "outputs": [
    {
     "data": {
      "text/plain": [
       "LinearRegression()"
      ]
     },
     "execution_count": 15,
     "metadata": {},
     "output_type": "execute_result"
    }
   ],
   "source": [
    "from sklearn.linear_model import LinearRegression\n",
    "alg1 = LinearRegression()\n",
    "alg1.fit(X_train,Y_train)"
   ]
  },
  {
   "cell_type": "code",
   "execution_count": 16,
   "id": "192a1414",
   "metadata": {},
   "outputs": [],
   "source": [
    "Y_pred = alg1.predict(dataset)  "
   ]
  },
  {
   "cell_type": "code",
   "execution_count": 17,
   "id": "ef27f8f3",
   "metadata": {},
   "outputs": [],
   "source": [
    "Y_pred\n",
    "np.savetxt('test2.csv',Y_pred,delimiter=\",\",fmt=\"%.5f\")"
   ]
  },
  {
   "cell_type": "code",
   "execution_count": null,
   "id": "049a3546",
   "metadata": {},
   "outputs": [],
   "source": []
  },
  {
   "cell_type": "code",
   "execution_count": null,
   "id": "7b3b4b8a",
   "metadata": {},
   "outputs": [],
   "source": []
  }
 ],
 "metadata": {
  "kernelspec": {
   "display_name": "Python 3",
   "language": "python",
   "name": "python3"
  },
  "language_info": {
   "codemirror_mode": {
    "name": "ipython",
    "version": 3
   },
   "file_extension": ".py",
   "mimetype": "text/x-python",
   "name": "python",
   "nbconvert_exporter": "python",
   "pygments_lexer": "ipython3",
   "version": "3.8.8"
  }
 },
 "nbformat": 4,
 "nbformat_minor": 5
}
